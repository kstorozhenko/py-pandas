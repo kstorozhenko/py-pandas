{
 "cells": [
  {
   "cell_type": "markdown",
   "source": [
    "# Pandas"
   ],
   "metadata": {
    "collapsed": false
   }
  },
  {
   "cell_type": "markdown",
   "source": [
    "## Task 1\n",
    "\n",
    "You should import the necessary libraries. You will use `numpy` and `pandas` libraries.\n",
    "\n",
    "\n",
    "> Don't forget to import `numpy`, and `pandas` in short form."
   ],
   "metadata": {
    "collapsed": false
   }
  },
  {
   "cell_type": "code",
   "execution_count": 27,
   "metadata": {
    "collapsed": true,
    "ExecuteTime": {
     "end_time": "2024-05-07T10:05:34.085365200Z",
     "start_time": "2024-05-07T10:05:33.865609300Z"
    }
   },
   "outputs": [],
   "source": [
    "import numpy as np\n",
    "import pandas as pd"
   ]
  },
  {
   "cell_type": "markdown",
   "source": [
    "## Task 2\n",
    "\n",
    "Create a `DataFrame` from the given dictionary `data`."
   ],
   "metadata": {
    "collapsed": false
   }
  },
  {
   "cell_type": "code",
   "execution_count": 28,
   "outputs": [
    {
     "name": "stdout",
     "output_type": "stream",
     "text": [
      "    Name  Age         City\n",
      "0   John   16     New York\n",
      "1  Emily   28  Los Angeles\n",
      "2   Ryan   22      Chicago\n"
     ]
    }
   ],
   "source": [
    "import pandas as pd\n",
    "data = {\n",
    "    \"Name\": [\"John\", \"Emily\", \"Ryan\"],\n",
    "    \"Age\": [16, 28, 22],\n",
    "    \"City\": [\"New York\", \"Los Angeles\", \"Chicago\"],\n",
    "}\n",
    "\n",
    "df = pd.DataFrame(data)\n",
    "print(df)"
   ],
   "metadata": {
    "collapsed": false,
    "ExecuteTime": {
     "end_time": "2024-05-07T10:05:34.178697200Z",
     "start_time": "2024-05-07T10:05:34.087360200Z"
    }
   }
  },
  {
   "cell_type": "markdown",
   "source": [
    "## Task 3\n",
    "\n",
    "In this task you should complete the following steps:"
   ],
   "metadata": {
    "collapsed": false
   }
  },
  {
   "cell_type": "markdown",
   "source": [
    "### Task 3.1\n",
    "Display all data for `Age` column for the DataFrame you created in the previous task."
   ],
   "metadata": {
    "collapsed": false
   }
  },
  {
   "cell_type": "code",
   "execution_count": 29,
   "outputs": [
    {
     "name": "stdout",
     "output_type": "stream",
     "text": [
      "0    16\n",
      "1    28\n",
      "2    22\n",
      "Name: Age, dtype: int64\n"
     ]
    }
   ],
   "source": [
    "print(df[\"Age\"])"
   ],
   "metadata": {
    "collapsed": false,
    "ExecuteTime": {
     "end_time": "2024-05-07T10:05:34.202252500Z",
     "start_time": "2024-05-07T10:05:34.100679400Z"
    }
   }
  },
  {
   "cell_type": "markdown",
   "source": [
    "### Task 3.2\n",
    "\n",
    "Add `Salary` column to the `DataFrame` with the values `[50000, 60000, 45000]`."
   ],
   "metadata": {
    "collapsed": false
   }
  },
  {
   "cell_type": "code",
   "execution_count": 30,
   "outputs": [
    {
     "name": "stdout",
     "output_type": "stream",
     "text": [
      "    Name  Age         City  Salary\n",
      "0   John   16     New York   50000\n",
      "1  Emily   28  Los Angeles   60000\n",
      "2   Ryan   22      Chicago   45000\n"
     ]
    }
   ],
   "source": [
    "df[\"Salary\"] = [50000, 60000, 45000]\n",
    "print(df)"
   ],
   "metadata": {
    "collapsed": false,
    "ExecuteTime": {
     "end_time": "2024-05-07T10:05:34.287836800Z",
     "start_time": "2024-05-07T10:05:34.205246300Z"
    }
   }
  },
  {
   "cell_type": "markdown",
   "source": [
    "### Task 3.3\n",
    "\n",
    "Filter the `DataFrame` to show only the rows with the `Age` greater than 18."
   ],
   "metadata": {
    "collapsed": false
   }
  },
  {
   "cell_type": "code",
   "execution_count": 31,
   "outputs": [
    {
     "name": "stdout",
     "output_type": "stream",
     "text": [
      "    Name  Age         City  Salary\n",
      "1  Emily   28  Los Angeles   60000\n",
      "2   Ryan   22      Chicago   45000\n"
     ]
    }
   ],
   "source": [
    "filtered_df = df[df[\"Age\"] > 18]\n",
    "print(filtered_df)"
   ],
   "metadata": {
    "collapsed": false,
    "ExecuteTime": {
     "end_time": "2024-05-07T10:05:34.359702900Z",
     "start_time": "2024-05-07T10:05:34.265875800Z"
    }
   }
  },
  {
   "cell_type": "markdown",
   "source": [
    "## Task 4\n",
    "\n",
    "In this task you should complete the following steps:"
   ],
   "metadata": {
    "collapsed": false
   }
  },
  {
   "cell_type": "markdown",
   "source": [
    "### Task 4.1\n",
    "\n",
    "Add new calculated field `Birth year`;"
   ],
   "metadata": {
    "collapsed": false
   }
  },
  {
   "cell_type": "code",
   "execution_count": 32,
   "outputs": [
    {
     "name": "stdout",
     "output_type": "stream",
     "text": [
      "    Name  Age         City  Salary  Birth year\n",
      "0   John   16     New York   50000        2008\n",
      "1  Emily   28  Los Angeles   60000        1996\n",
      "2   Ryan   22      Chicago   45000        2002\n"
     ]
    }
   ],
   "source": [
    "import datetime\n",
    "current_year = datetime.datetime.now().year\n",
    "df[\"Birth year\"] = current_year - df[\"Age\"]\n",
    "print(df)"
   ],
   "metadata": {
    "collapsed": false,
    "ExecuteTime": {
     "end_time": "2024-05-07T10:05:34.386820700Z",
     "start_time": "2024-05-07T10:05:34.339935100Z"
    }
   }
  },
  {
   "cell_type": "markdown",
   "source": [
    "### Task 4.2\n",
    "\n",
    "Add new calculated field `Average age`."
   ],
   "metadata": {
    "collapsed": false
   }
  },
  {
   "cell_type": "code",
   "execution_count": 33,
   "outputs": [
    {
     "name": "stdout",
     "output_type": "stream",
     "text": [
      "    Name  Age         City  Salary  Birth year  Average age\n",
      "0   John   16     New York   50000        2008         22.0\n",
      "1  Emily   28  Los Angeles   60000        1996         22.0\n",
      "2   Ryan   22      Chicago   45000        2002         22.0\n"
     ]
    }
   ],
   "source": [
    "average_age = df[\"Age\"].mean()\n",
    "df[\"Average age\"] = average_age\n",
    "print(df)"
   ],
   "metadata": {
    "collapsed": false,
    "ExecuteTime": {
     "end_time": "2024-05-07T10:05:34.471736300Z",
     "start_time": "2024-05-07T10:05:34.388817800Z"
    }
   }
  },
  {
   "cell_type": "markdown",
   "source": [
    "### Task 4.3\n",
    "\n",
    "Calculate absolute difference between `Age` and `Average age`."
   ],
   "metadata": {
    "collapsed": false
   }
  },
  {
   "cell_type": "code",
   "execution_count": 34,
   "outputs": [
    {
     "name": "stdout",
     "output_type": "stream",
     "text": [
      "    Name  Age         City  Salary  Birth year  Average age  Age Difference\n",
      "0   John   16     New York   50000        2008         22.0             6.0\n",
      "1  Emily   28  Los Angeles   60000        1996         22.0             6.0\n",
      "2   Ryan   22      Chicago   45000        2002         22.0             0.0\n"
     ]
    }
   ],
   "source": [
    "df[\"Age Difference\"] = abs(df[\"Age\"] - df[\"Average age\"])\n",
    "print(df)"
   ],
   "metadata": {
    "collapsed": false,
    "ExecuteTime": {
     "end_time": "2024-05-07T10:05:34.555727900Z",
     "start_time": "2024-05-07T10:05:34.445861Z"
    }
   }
  },
  {
   "cell_type": "markdown",
   "source": [
    "## Task 5\n",
    "\n",
    "Complete the following tasks described below."
   ],
   "metadata": {
    "collapsed": false
   }
  },
  {
   "cell_type": "markdown",
   "source": [
    "### Task 5.1\n",
    "\n",
    "You have two dictionaries `data1` and `data2`. Create two `DataFrame` objects from these dictionaries. Then, `concatenate`, and `merge` these two `DataFrame` objects into one `DataFrame` object, and see the difference."
   ],
   "metadata": {
    "collapsed": false
   }
  },
  {
   "cell_type": "code",
   "execution_count": 35,
   "outputs": [
    {
     "name": "stdout",
     "output_type": "stream",
     "text": [
      "    Name  Age\n",
      "0   John   25\n",
      "1  Emily   28\n",
      "2   Ryan   22     Name         City\n",
      "0  Emily  Los Angeles\n",
      "1   Ryan      Chicago\n",
      "2   Mike      Houston\n"
     ]
    }
   ],
   "source": [
    "# Data\n",
    "data1 = {'Name': ['John', 'Emily', 'Ryan'],\n",
    "         'Age': [25, 28, 22]}\n",
    "data2 = {'Name': ['Emily', 'Ryan', 'Mike'],\n",
    "         'City': ['Los Angeles', 'Chicago', 'Houston']}\n",
    "\n",
    "df1 = pd.DataFrame(data1)\n",
    "df2 = pd.DataFrame(data2)\n",
    "print(df1, df2)"
   ],
   "metadata": {
    "collapsed": false,
    "ExecuteTime": {
     "end_time": "2024-05-07T10:05:34.617411500Z",
     "start_time": "2024-05-07T10:05:34.528206800Z"
    }
   }
  },
  {
   "cell_type": "code",
   "execution_count": 36,
   "outputs": [
    {
     "name": "stdout",
     "output_type": "stream",
     "text": [
      "    Name   Age         City\n",
      "0  Emily  28.0  Los Angeles\n",
      "1   John  25.0          NaN\n",
      "2   Mike   NaN      Houston\n",
      "3   Ryan  22.0      Chicago\n"
     ]
    }
   ],
   "source": [
    "merged_df = pd.merge(df1, df2, on=\"Name\", how=\"outer\")\n",
    "print(merged_df)"
   ],
   "metadata": {
    "collapsed": false,
    "ExecuteTime": {
     "end_time": "2024-05-07T10:05:34.693997Z",
     "start_time": "2024-05-07T10:05:34.619444400Z"
    }
   }
  },
  {
   "cell_type": "code",
   "execution_count": 37,
   "outputs": [
    {
     "name": "stdout",
     "output_type": "stream",
     "text": [
      "    Name   Age         City\n",
      "0   John  25.0          NaN\n",
      "1  Emily  28.0          NaN\n",
      "2   Ryan  22.0          NaN\n",
      "3  Emily   NaN  Los Angeles\n",
      "4   Ryan   NaN      Chicago\n",
      "5   Mike   NaN      Houston\n"
     ]
    }
   ],
   "source": [
    "concat_df = pd.concat([df1, df2], axis=0, ignore_index=True)\n",
    "print(concat_df)"
   ],
   "metadata": {
    "collapsed": false,
    "ExecuteTime": {
     "end_time": "2024-05-07T10:05:34.722963400Z",
     "start_time": "2024-05-07T10:05:34.670784Z"
    }
   }
  },
  {
   "cell_type": "markdown",
   "source": [
    "### Task 5.2\n",
    "\n",
    "You have two `Series` objects `s1` and `s2`. Make default mathematical operations on these two `Series` objects. Such as `+`, `-`, `*`, `/`, `**`, `//`, `%`. Also, filter `s1` and print only even numbers, and `s2` only with odd numbers.\n"
   ],
   "metadata": {
    "collapsed": false
   }
  },
  {
   "cell_type": "code",
   "execution_count": 38,
   "outputs": [],
   "source": [
    "s1 = pd.Series([1, 2, 3, 4, 5])\n",
    "s2 = pd.Series([6, 7, 8, 9, 10])"
   ],
   "metadata": {
    "collapsed": false,
    "ExecuteTime": {
     "end_time": "2024-05-07T10:05:34.809473Z",
     "start_time": "2024-05-07T10:05:34.726192200Z"
    }
   }
  },
  {
   "cell_type": "code",
   "execution_count": 39,
   "outputs": [
    {
     "name": "stdout",
     "output_type": "stream",
     "text": [
      "0     7\n",
      "1     9\n",
      "2    11\n",
      "3    13\n",
      "4    15\n",
      "dtype: int64\n"
     ]
    }
   ],
   "source": [
    "result = s1 + s2\n",
    "print(result)"
   ],
   "metadata": {
    "collapsed": false,
    "ExecuteTime": {
     "end_time": "2024-05-07T10:05:34.866209700Z",
     "start_time": "2024-05-07T10:05:34.810771900Z"
    }
   }
  },
  {
   "cell_type": "code",
   "execution_count": 40,
   "outputs": [
    {
     "name": "stdout",
     "output_type": "stream",
     "text": [
      "0   -5\n",
      "1   -5\n",
      "2   -5\n",
      "3   -5\n",
      "4   -5\n",
      "dtype: int64\n"
     ]
    }
   ],
   "source": [
    "result = s1 - s2\n",
    "print(result)"
   ],
   "metadata": {
    "collapsed": false,
    "ExecuteTime": {
     "end_time": "2024-05-07T10:05:34.933875Z",
     "start_time": "2024-05-07T10:05:34.867839500Z"
    }
   }
  },
  {
   "cell_type": "code",
   "execution_count": 41,
   "outputs": [
    {
     "name": "stdout",
     "output_type": "stream",
     "text": [
      "0     6\n",
      "1    14\n",
      "2    24\n",
      "3    36\n",
      "4    50\n",
      "dtype: int64\n"
     ]
    }
   ],
   "source": [
    "result = s1 * s2\n",
    "print(result)"
   ],
   "metadata": {
    "collapsed": false,
    "ExecuteTime": {
     "end_time": "2024-05-07T10:05:34.983916100Z",
     "start_time": "2024-05-07T10:05:34.912324100Z"
    }
   }
  },
  {
   "cell_type": "code",
   "execution_count": 42,
   "outputs": [
    {
     "name": "stdout",
     "output_type": "stream",
     "text": [
      "0    0.166667\n",
      "1    0.285714\n",
      "2    0.375000\n",
      "3    0.444444\n",
      "4    0.500000\n",
      "dtype: float64\n"
     ]
    }
   ],
   "source": [
    "result = s1 / s2\n",
    "print(result)"
   ],
   "metadata": {
    "collapsed": false,
    "ExecuteTime": {
     "end_time": "2024-05-07T10:05:35.040601600Z",
     "start_time": "2024-05-07T10:05:34.986801500Z"
    }
   }
  },
  {
   "cell_type": "code",
   "execution_count": 43,
   "outputs": [
    {
     "name": "stdout",
     "output_type": "stream",
     "text": [
      "0          1\n",
      "1        128\n",
      "2       6561\n",
      "3     262144\n",
      "4    9765625\n",
      "dtype: int64\n"
     ]
    }
   ],
   "source": [
    "result = s1 ** s2\n",
    "print(result)"
   ],
   "metadata": {
    "collapsed": false,
    "ExecuteTime": {
     "end_time": "2024-05-07T10:05:35.116934100Z",
     "start_time": "2024-05-07T10:05:35.041603200Z"
    }
   }
  },
  {
   "cell_type": "code",
   "execution_count": 44,
   "outputs": [
    {
     "name": "stdout",
     "output_type": "stream",
     "text": [
      "0    0\n",
      "1    0\n",
      "2    0\n",
      "3    0\n",
      "4    0\n",
      "dtype: int64\n"
     ]
    }
   ],
   "source": [
    "result = s1 // s2\n",
    "print(result)"
   ],
   "metadata": {
    "collapsed": false,
    "ExecuteTime": {
     "end_time": "2024-05-07T10:05:35.232507500Z",
     "start_time": "2024-05-07T10:05:35.117901200Z"
    }
   }
  },
  {
   "cell_type": "code",
   "execution_count": 45,
   "outputs": [
    {
     "name": "stdout",
     "output_type": "stream",
     "text": [
      "0    1\n",
      "1    2\n",
      "2    3\n",
      "3    4\n",
      "4    5\n",
      "dtype: int64\n"
     ]
    }
   ],
   "source": [
    "result = s1 % s2\n",
    "print(result)"
   ],
   "metadata": {
    "collapsed": false,
    "ExecuteTime": {
     "end_time": "2024-05-07T10:05:35.265786600Z",
     "start_time": "2024-05-07T10:05:35.211818500Z"
    }
   }
  },
  {
   "cell_type": "code",
   "execution_count": 46,
   "outputs": [
    {
     "name": "stdout",
     "output_type": "stream",
     "text": [
      "Filtered s1 (only even numbers):\n",
      "1    2\n",
      "3    4\n",
      "dtype: int64\n"
     ]
    }
   ],
   "source": [
    "print(\"Filtered s1 (only even numbers):\")\n",
    "print(s1[s1 % 2 == 0])"
   ],
   "metadata": {
    "collapsed": false,
    "ExecuteTime": {
     "end_time": "2024-05-07T10:05:35.312922800Z",
     "start_time": "2024-05-07T10:05:35.240225700Z"
    }
   }
  },
  {
   "cell_type": "code",
   "execution_count": 47,
   "outputs": [
    {
     "name": "stdout",
     "output_type": "stream",
     "text": [
      "Filtered s2 (only odd numbers):\n",
      "1    7\n",
      "3    9\n",
      "dtype: int64\n"
     ]
    }
   ],
   "source": [
    "print(\"Filtered s2 (only odd numbers):\")\n",
    "print(s2[s2 % 2 != 0])"
   ],
   "metadata": {
    "collapsed": false,
    "ExecuteTime": {
     "end_time": "2024-05-07T10:05:35.373011200Z",
     "start_time": "2024-05-07T10:05:35.315917Z"
    }
   }
  },
  {
   "cell_type": "markdown",
   "source": [
    "### Task 5.3\n",
    "\n",
    "You have a `Serias` object `s`. Make the following operations on this `Series` object:\n",
    "\n",
    "* make all words in uppercase without loops;\n",
    "* get length of each word without loops.\n"
   ],
   "metadata": {
    "collapsed": false
   }
  },
  {
   "cell_type": "code",
   "execution_count": 48,
   "outputs": [],
   "source": [
    "s = pd.Series([\"numpy\", \"pandas\", \"matplotlib\"])"
   ],
   "metadata": {
    "collapsed": false,
    "ExecuteTime": {
     "end_time": "2024-05-07T10:05:35.431587900Z",
     "start_time": "2024-05-07T10:05:35.349337400Z"
    }
   }
  },
  {
   "cell_type": "code",
   "execution_count": 49,
   "outputs": [
    {
     "name": "stdout",
     "output_type": "stream",
     "text": [
      "0         NUMPY\n",
      "1        PANDAS\n",
      "2    MATPLOTLIB\n",
      "dtype: object\n"
     ]
    }
   ],
   "source": [
    "print(s.str.upper())"
   ],
   "metadata": {
    "collapsed": false,
    "ExecuteTime": {
     "end_time": "2024-05-07T10:05:35.490707100Z",
     "start_time": "2024-05-07T10:05:35.434579300Z"
    }
   }
  },
  {
   "cell_type": "code",
   "execution_count": 53,
   "outputs": [
    {
     "name": "stdout",
     "output_type": "stream",
     "text": [
      "0     5\n",
      "1     6\n",
      "2    10\n",
      "dtype: int64\n"
     ]
    }
   ],
   "source": [
    "print(s.str.len())"
   ],
   "metadata": {
    "collapsed": false,
    "ExecuteTime": {
     "end_time": "2024-05-07T10:06:05.900781700Z",
     "start_time": "2024-05-07T10:06:05.822212800Z"
    }
   }
  },
  {
   "cell_type": "markdown",
   "source": [
    "## Task 6 Optional\n",
    "\n",
    "You have a large dataset consisting of a series of numbers. Your task is to calculate the moving average of the series using a window of `5` elements. The moving average is the average of a set of consecutive values in the series, where the window `slides` through the series to compute the average at each position. The goal is to calculate the moving average efficiently and accurately. Also, compare time performance of Python and Pandas solutions.\n",
    "\n",
    "> Please, note: If you get `nan` while calculating the moving average, you should remove it from the result. Pandas solution should take 1-2 lines of code.\n"
   ],
   "metadata": {
    "collapsed": false
   }
  },
  {
   "cell_type": "markdown",
   "source": [
    "### Python Solution\n",
    "\n",
    "In the Python solution, a large dataset is generated using random numbers. The moving average is computed by iterating over the dataset using a loop. At each position, a window of 5 elements is created, and the average is calculated by summing the values in the window and dividing by 5."
   ],
   "metadata": {
    "collapsed": false
   }
  },
  {
   "cell_type": "code",
   "execution_count": 51,
   "outputs": [
    {
     "name": "stdout",
     "output_type": "stream",
     "text": [
      "CPU times: total: 9.42 s\n",
      "Wall time: 10.3 s\n"
     ]
    },
    {
     "data": {
      "text/plain": "[29.8, 45.6, 49.4, 45.0, 37.0, 44.0, 37.0, 46.4, 54.2, 58.8]"
     },
     "execution_count": 51,
     "metadata": {},
     "output_type": "execute_result"
    }
   ],
   "source": [
    "import random\n",
    "\n",
    "def unknown_signature():\n",
    "    # Generate a large dataset\n",
    "    data = [random.randint(1, 100) for _ in range(10000000)]\n",
    "\n",
    "    # Calculate the moving average with a window of 5\n",
    "    moving_averages = []\n",
    "    for i in range(4, len(data)):\n",
    "        window = data[i - 4 : i + 1]\n",
    "        average = sum(window) / 5\n",
    "        moving_averages.append(average)\n",
    "    return moving_averages[:10]\n",
    "\n",
    "%time unknown_signature()"
   ],
   "metadata": {
    "collapsed": false,
    "ExecuteTime": {
     "end_time": "2024-05-07T10:05:45.826760Z",
     "start_time": "2024-05-07T10:05:35.548032700Z"
    }
   }
  },
  {
   "cell_type": "markdown",
   "source": [
    "### Solution using Pandas and Numpy\n"
   ],
   "metadata": {
    "collapsed": false
   }
  },
  {
   "cell_type": "code",
   "execution_count": 52,
   "outputs": [],
   "source": [
    "# write your code here\n"
   ],
   "metadata": {
    "collapsed": false,
    "ExecuteTime": {
     "end_time": "2024-05-07T10:05:45.826760Z",
     "start_time": "2024-05-07T10:05:45.815707800Z"
    }
   }
  }
 ],
 "metadata": {
  "kernelspec": {
   "display_name": "Python 3",
   "language": "python",
   "name": "python3"
  },
  "language_info": {
   "codemirror_mode": {
    "name": "ipython",
    "version": 2
   },
   "file_extension": ".py",
   "mimetype": "text/x-python",
   "name": "python",
   "nbconvert_exporter": "python",
   "pygments_lexer": "ipython2",
   "version": "2.7.6"
  }
 },
 "nbformat": 4,
 "nbformat_minor": 0
}
